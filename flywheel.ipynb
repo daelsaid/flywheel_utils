{
  "cells": [
    {
      "cell_type": "code",
      "source": [
        "import flywheel\n",
        "import os"
      ],
      "outputs": [],
      "execution_count": 4,
      "metadata": {
        "collapsed": false,
        "outputHidden": false,
        "inputHidden": false
      }
    },
    {
      "cell_type": "code",
      "source": [
        "fw=flywheel.Client('')\n",
        "met_proj = fw.projects.find_first('label=met')\n",
        "output_path=''"
      ],
      "outputs": [],
      "execution_count": 5,
      "metadata": {
        "collapsed": false,
        "outputHidden": false,
        "inputHidden": false
      }
    },
    {
      "cell_type": "code",
      "source": [
        "for session in met_proj.sessions():\n",
        "   print('%s' % (session.label)).lower()\n",
        "   for acq in session.acquisitions.iter():\n",
        "        if 'T2' in acq.label:\n",
        "            acq_name=session.label+'_'+ acq.label\n",
        "            acq_name=acq_name.replace(' ','_').replace('.','_').lower()\n",
        "            acq.download_tar(os.path.join(output_path,acq_name+'.tar',include_types=['nifti'])"
      ],
      "outputs": [],
      "execution_count": null,
      "metadata": {
        "collapsed": false,
        "outputHidden": false,
        "inputHidden": false,
        "outputExpanded": true
      }
    },
    {
      "cell_type": "code",
      "source": [
        "for session in met_proj.sessions():\n",
        "    print('%s: %s' % (session.id, session.label))\n",
        "    for acq in session.acquisitions.iter():\n",
        "        print ('%s: %s' % (acq.id,acq.label))\n",
        "        for acq_files in acq.files:\n",
        "            print acq_files.label"
      ],
      "outputs": [],
      "execution_count": null,
      "metadata": {
        "collapsed": false,
        "outputHidden": false,
        "inputHidden": false
      }
    }
  ],
  "metadata": {
    "kernel_info": {
      "name": "python2"
    },
    "language_info": {
      "mimetype": "text/x-python",
      "nbconvert_exporter": "python",
      "name": "python",
      "pygments_lexer": "ipython2",
      "version": "2.7.15",
      "file_extension": ".py",
      "codemirror_mode": {
        "version": 2,
        "name": "ipython"
      }
    },
    "kernelspec": {
      "name": "python2",
      "language": "python",
      "display_name": "Python 2"
    },
    "nteract": {
      "version": "0.12.3"
    }
  },
  "nbformat": 4,
  "nbformat_minor": 4
}